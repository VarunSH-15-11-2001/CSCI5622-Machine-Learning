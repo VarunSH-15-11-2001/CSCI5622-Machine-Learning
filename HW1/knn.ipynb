{
 "cells": [
  {
   "cell_type": "code",
   "execution_count": 4,
   "metadata": {},
   "outputs": [],
   "source": [
    "import pandas as pd\n",
    "import math\n",
    "from collections import Counter\n",
    "# import time as t\n",
    "from tqdm import tqdm \n",
    "import random"
   ]
  },
  {
   "cell_type": "code",
   "execution_count": 8,
   "metadata": {},
   "outputs": [],
   "source": [
    "data = pd.read_csv('Breast_Cancer.csv')"
   ]
  },
  {
   "cell_type": "code",
   "execution_count": 9,
   "metadata": {},
   "outputs": [],
   "source": [
    "def compute_distances(point1, point2):\n",
    "    \"\"\"\n",
    "        Age, survival months, regional node positive, regional node examined and Tumor size\n",
    "        are the continuous variables. Euclidean distance is used for measuring similarity \n",
    "        between these variables.\n",
    "\n",
    "        Race, Marital Status, T Stage, N Stage, 6th Stage, Defferentiated, Grade, A Stage, \n",
    "        Estrogen Status, Progesterone Status are the categorical values. Hamming distance \n",
    "        is used for measuring the similarity across these variables.\n",
    "    \"\"\"\n",
    "    euclidean_distance = math.sqrt(\n",
    "        (point1['Age'] - point2['Age'] ) **2+\n",
    "        (point1['Tumor Size'] - point2['Tumor Size'] ) **2+\n",
    "        (point1['Regional Node Examined'] - point2['Regional Node Examined']) **2+\n",
    "        (point1['Regional Node Positive'] - point2['Regional Node Positive'] ) **2+\n",
    "        (point1['Survival Months'] - point2['Survival Months'])**2\n",
    "    )\n",
    "\n",
    "    # print(\"ed: \", euclidean_distance)\n",
    "\n",
    "    \n",
    "\n",
    "    hamming_distance = (\n",
    "        (0 if point1['Race']==point2['Race'] else 1) + \n",
    "        (0 if point1['Marital Status']==point2['Marital Status'] else 1) +\n",
    "        (0 if point1['T Stage']==point2['T Stage'] else 1) +\n",
    "        (0 if point1['N Stage']==point2['N Stage'] else 1) +\n",
    "        (0 if point1['6th Stage']==point2['6th Stage'] else 1) +\n",
    "        (0 if point1['differentiate']==point2['differentiate'] else 1) +\n",
    "        (0 if point1['Grade']==point2['Grade'] else 1) +\n",
    "        (0 if point1['A Stage']==point2['A Stage'] else 1) +\n",
    "        (0 if point1['Estrogen Status']==point2['Estrogen Status'] else 1) +\n",
    "        (0 if point1['Progesterone Status']==point2['Progesterone Status'] else 1) \n",
    "    )\n",
    "    \n",
    "    \n",
    "    # print(\"hd: \", hamming_distance)\n",
    "    return euclidean_distance + hamming_distance"
   ]
  },
  {
   "cell_type": "code",
   "execution_count": 18,
   "metadata": {},
   "outputs": [],
   "source": [
    "def split_dataset(data):\n",
    "    totalRows = data.shape[0] - 1\n",
    "\n",
    "    \"\"\"\n",
    "        split data into train, validation and testing sets : 75-15-15% each\n",
    "        find the total size of the dataset and *0.75, .15, .15\n",
    "    \"\"\"    \n",
    "    train_boundary = math.floor(0.70*totalRows)\n",
    "    val_boundary = train_boundary + math.ceil(0.15*totalRows)\n",
    "    test_boundary = val_boundary + math.ceil(0.15*totalRows)\n",
    "\n",
    "    train_data = data.iloc[:train_boundary]\n",
    "    val_data = data.iloc[train_boundary:val_boundary]\n",
    "    test_data = data.iloc[val_boundary:test_boundary]\n",
    "\n",
    "    train_Y = train_data['Status']\n",
    "    train_X = train_data.drop(['Status'], axis=1)\n",
    "\n",
    "    val_Y = val_data['Status']\n",
    "    val_X = val_data.drop(['Status'], axis=1)\n",
    "\n",
    "\n",
    "    test_Y = test_data['Status']\n",
    "    test_X = test_data.drop(['Status'], axis=1)\n",
    "\n",
    "    # print(train_X.shape[0])\n",
    "    # print(val_X.shape[0])\n",
    "\n",
    "    return train_X, train_Y, val_X, val_Y, test_X, test_Y"
   ]
  },
  {
   "cell_type": "code",
   "execution_count": 28,
   "metadata": {},
   "outputs": [],
   "source": [
    "data['ID'] = data.index\n",
    "train_X, train_Y, val_X, val_Y, test_X, test_Y = split_dataset(data.sample(frac=1))"
   ]
  },
  {
   "cell_type": "code",
   "execution_count": 40,
   "metadata": {},
   "outputs": [],
   "source": [
    "point_distance_map = {}\n",
    "val_point_to_sorted_distances = {}"
   ]
  },
  {
   "cell_type": "code",
   "execution_count": null,
   "metadata": {},
   "outputs": [],
   "source": [
    "for val_index in tqdm(range(val_X.shape[0])):\n",
    "    for train_index in range(train_X.shape[0]):\n",
    "        distance = compute_distances(val_X.iloc[val_index], train_X.iloc[train_index])\n",
    "        point_distance_map[train_index] = distance\n",
    "    sorted_distances = dict(sorted(point_distance_map.items(), key=lambda item: item[1]))\n",
    "    val_point_to_sorted_distances[val_index] = sorted_distances"
   ]
  },
  {
   "cell_type": "code",
   "execution_count": 149,
   "metadata": {},
   "outputs": [],
   "source": [
    "def get_k_neighbours(k):\n",
    "    kNeighbours = {}\n",
    "    for val_point in val_point_to_sorted_distances:\n",
    "        neighbours = val_point_to_sorted_distances[val_point]\n",
    "        kNeighbours[val_point] = list(neighbours.keys())[:k]\n",
    "    return kNeighbours\n",
    "    \n",
    "\n",
    "def predict_for_val(kNeighbours):\n",
    "    validation_predictions = {}\n",
    "    for val_point in kNeighbours.keys():\n",
    "        output = []\n",
    "        for neigh in kNeighbours[val_point]:\n",
    "            # print(train_X.loc[train_X['ID'] == neigh])\n",
    "            output.append(train_Y.iloc[neigh])\n",
    "            pred_status, trash = Counter(output).most_common()[0]\n",
    "            validation_predictions[val_point] = pred_status\n",
    "    return validation_predictions\n",
    "\n",
    "\n",
    "tp = {}\n",
    "fp = {}\n",
    "tn = {}\n",
    "fn = {}\n",
    "\n",
    "def confusion_matrix(predictions, k, actual_Y):\n",
    "    global tp\n",
    "    global tn\n",
    "    global fn\n",
    "    global fp\n",
    "    tp.setdefault(k,0)\n",
    "    tn.setdefault(k,0)\n",
    "    fn.setdefault(k,0)\n",
    "    fp.setdefault(k,0)\n",
    "    for point in predictions:    \n",
    "        if predictions[point] == actual_Y.iloc[point]:\n",
    "            if actual_Y.iloc[point] == 'Alive': \n",
    "                \n",
    "                tp[k]+=1\n",
    "            else:\n",
    "                tn[k]+=1\n",
    "        else:\n",
    "            if actual_Y.iloc[point] == 'Alive':\n",
    "                fn[k]+=1\n",
    "            else:\n",
    "                fp[k]+=1\n",
    "\n",
    "\n",
    "def compute_accuracies(tp, fp, tn, fn, k):\n",
    "    recall_1 = tp[k]/(tp[k]+fn[k])\n",
    "    recall_2 = tn[k]/(tn[k]+fp[k])\n",
    "    return ((tp[k]+tn[k])/(tp[k]+tn[k]+fp[k]+tn[k])) , (0.5*(recall_1 + recall_2)) , (2*tp[k] / (2*tp[k] + fp[k] + fn[k]))\n",
    "\n"
   ]
  },
  {
   "cell_type": "code",
   "execution_count": 162,
   "metadata": {},
   "outputs": [],
   "source": [
    "accuracies = []\n",
    "bAccuracies = []\n",
    "f1_scores = []"
   ]
  },
  {
   "cell_type": "code",
   "execution_count": 163,
   "metadata": {},
   "outputs": [
    {
     "name": "stdout",
     "output_type": "stream",
     "text": [
      "For k = 1 :  Accuracy = 0.8407960199004975------Balanced Accuracy = 0.6553067585301837------F1 score = 0.9064609450337512\n",
      "==================================================================================================================\n",
      "For k = 3 :  Accuracy = 0.8433931484502447------Balanced Accuracy = 0.6567011154855643------F1 score = 0.917221693625119\n",
      "==================================================================================================================\n",
      "For k = 5 :  Accuracy = 0.8456591639871383------Balanced Accuracy = 0.6655593832020997------F1 score = 0.9264150943396227\n",
      "==================================================================================================================\n",
      "For k = 7 :  Accuracy = 0.8459069020866774------Balanced Accuracy = 0.6623195538057743------F1 score = 0.9275634995296331\n",
      "==================================================================================================================\n",
      "For k = 9 :  Accuracy = 0.8426892950391645------Balanced Accuracy = 0.6279963639811791------F1 score = 0.9176382098533283\n",
      "==================================================================================================================\n",
      "For k = 11 :  Accuracy = 0.8427919112850619------Balanced Accuracy = 0.6250290194847448------F1 score = 0.9181681681681682\n",
      "==================================================================================================================\n"
     ]
    }
   ],
   "source": [
    "for k in [1,3,5,7,9,11]:\n",
    "    kNeighbours = get_k_neighbours(k)\n",
    "    validation_predictions = predict_for_val(kNeighbours=kNeighbours)\n",
    "    confusion_matrix(validation_predictions, k, val_Y)\n",
    "    acc , bAcc , f1 = compute_accuracies(tp, fp, tn, fn, k)\n",
    "    accuracies.append(acc)\n",
    "    bAccuracies.append(bAcc)\n",
    "    f1_scores.append(f1)\n",
    "    print(f\"For k = {k} :  Accuracy = {acc}------Balanced Accuracy = {bAcc}------F1 score = {f1}\")\n",
    "    print(\"==================================================================================================================\")"
   ]
  },
  {
   "cell_type": "markdown",
   "metadata": {},
   "source": [
    "Best value for K based on :\n",
    "    1. Accuracy : K*=9\n",
    "    2. Balanced accuracy : K**=9\n",
    "    3. F1 score : K+=11"
   ]
  },
  {
   "cell_type": "code",
   "execution_count": 164,
   "metadata": {},
   "outputs": [
    {
     "data": {
      "text/plain": [
       "[0.8407960199004975,\n",
       " 0.8433931484502447,\n",
       " 0.8456591639871383,\n",
       " 0.8459069020866774,\n",
       " 0.8426892950391645,\n",
       " 0.8427919112850619]"
      ]
     },
     "execution_count": 164,
     "metadata": {},
     "output_type": "execute_result"
    }
   ],
   "source": [
    "accuracies"
   ]
  },
  {
   "cell_type": "code",
   "execution_count": 165,
   "metadata": {},
   "outputs": [
    {
     "data": {
      "text/plain": [
       "<matplotlib.collections.PathCollection at 0x1434a2f10>"
      ]
     },
     "execution_count": 165,
     "metadata": {},
     "output_type": "execute_result"
    },
    {
     "data": {
      "image/png": "[encoded data removed]",
      "text/plain": [
       "<Figure size 640x480 with 1 Axes>"
      ]
     },
     "metadata": {},
     "output_type": "display_data"
    }
   ],
   "source": [
    "import matplotlib.pyplot as plt\n",
    "plt.scatter(accuracies, [1,3,5,7,9,11])"
   ]
  },
  {
   "cell_type": "code",
   "execution_count": 166,
   "metadata": {},
   "outputs": [
    {
     "data": {
      "text/plain": [
       "<matplotlib.collections.PathCollection at 0x14348b490>"
      ]
     },
     "execution_count": 166,
     "metadata": {},
     "output_type": "execute_result"
    },
    {
     "data": {
      "image/png": "[encoded data removed]",
      "text/plain": [
       "<Figure size 640x480 with 1 Axes>"
      ]
     },
     "metadata": {},
     "output_type": "display_data"
    }
   ],
   "source": [
    "plt.scatter(bAccuracies, [1,3,5,7,9,11])"
   ]
  },
  {
   "cell_type": "code",
   "execution_count": 169,
   "metadata": {},
   "outputs": [
    {
     "data": {
      "text/plain": [
       "<matplotlib.collections.PathCollection at 0x143653f40>"
      ]
     },
     "execution_count": 169,
     "metadata": {},
     "output_type": "execute_result"
    },
    {
     "data": {
      "image/png": "[encoded data removed]",
      "text/plain": [
       "<Figure size 640x480 with 1 Axes>"
      ]
     },
     "metadata": {},
     "output_type": "display_data"
    }
   ],
   "source": [
    "plt.scatter(f1_scores, [1,3,5,7,9,11])"
   ]
  },
  {
   "cell_type": "code",
   "execution_count": 144,
   "metadata": {},
   "outputs": [],
   "source": [
    "point_distance_map = {}\n",
    "test_point_to_sorted_distances = {}"
   ]
  },
  {
   "cell_type": "code",
   "execution_count": 145,
   "metadata": {},
   "outputs": [
    {
     "name": "stderr",
     "output_type": "stream",
     "text": [
      "100%|██████████| 604/604 [02:01<00:00,  4.99it/s]\n"
     ]
    }
   ],
   "source": [
    "for test_index in tqdm(range(test_X.shape[0])):\n",
    "    for train_index in range(train_X.shape[0]):\n",
    "        distance = compute_distances(test_X.iloc[test_index], train_X.iloc[train_index])\n",
    "        point_distance_map[train_index] = distance\n",
    "    sorted_distances = dict(sorted(point_distance_map.items(), key=lambda item: item[1]))\n",
    "    test_point_to_sorted_distances[test_index] = sorted_distances"
   ]
  },
  {
   "cell_type": "code",
   "execution_count": 146,
   "metadata": {},
   "outputs": [],
   "source": [
    "def get_k_neighbours(k):\n",
    "    kNeighbours = {}\n",
    "    for test_point in test_point_to_sorted_distances:\n",
    "        neighbours = test_point_to_sorted_distances[test_point]\n",
    "        kNeighbours[test_point] = list(neighbours.keys())[:k]\n",
    "    return kNeighbours"
   ]
  },
  {
   "cell_type": "code",
   "execution_count": 147,
   "metadata": {},
   "outputs": [],
   "source": [
    "def predict_for_test(kNeighbours):\n",
    "    test_predictions = {}\n",
    "    for test_point in kNeighbours.keys():\n",
    "        output = []\n",
    "        for neigh in kNeighbours[test_point]:\n",
    "            # print(train_X.loc[train_X['ID'] == neigh])\n",
    "            output.append(train_Y.iloc[neigh])\n",
    "            pred_status, trash = Counter(output).most_common()[0]\n",
    "            test_predictions[test_point] = pred_status\n",
    "    return test_predictions"
   ]
  },
  {
   "cell_type": "code",
   "execution_count": 150,
   "metadata": {},
   "outputs": [
    {
     "name": "stdout",
     "output_type": "stream",
     "text": [
      "For k = 9 :  Accuracy = 0.825------Balanced Accuracy = 0.4647495361781076------F1 score = 0.8662900188323918\n",
      "==================================================================================================================\n",
      "For k = 11 :  Accuracy = 0.8256227758007118------Balanced Accuracy = 0.46672582076308783------F1 score = 0.868421052631579\n",
      "==================================================================================================================\n"
     ]
    }
   ],
   "source": [
    "for k in [9,11]:\n",
    "    kNeighbours = get_k_neighbours(k)\n",
    "    test_predictions = predict_for_test(kNeighbours=kNeighbours)\n",
    "    confusion_matrix(test_predictions, k, test_Y)\n",
    "    acc , bAcc , f1 = compute_accuracies(tp, fp, tn, fn, k)\n",
    "    print(f\"For k = {k} :  Accuracy = {acc}------Balanced Accuracy = {bAcc}------F1 score = {f1}\")\n",
    "    print(\"==================================================================================================================\")"
   ]
  },
  {
   "cell_type": "code",
   "execution_count": 172,
   "metadata": {},
   "outputs": [],
   "source": [
    "tp_W = 0\n",
    "tn_W = 0\n",
    "fn_W = 0\n",
    "fp_W = 0\n",
    "\n",
    "tp_B = 0\n",
    "tn_B = 0\n",
    "fn_B = 0\n",
    "fp_B = 0\n",
    "\n",
    "tp_O = 0\n",
    "tn_O = 0\n",
    "fn_O = 0\n",
    "fp_O = 0"
   ]
  },
  {
   "cell_type": "code",
   "execution_count": 184,
   "metadata": {},
   "outputs": [],
   "source": [
    "def confusion_matrix_optimal(predictions, k, actual_Y):\n",
    "    for point in predictions:  \n",
    "        if test_X.iloc[point]['Race'] == \"White\" :  \n",
    "            if predictions[point] == actual_Y.iloc[point]:\n",
    "                if actual_Y.iloc[point] == 'Alive': \n",
    "                    global tp_W\n",
    "                    tp_W+=1\n",
    "                else:\n",
    "                    global tn_W\n",
    "                    tn_W+=1\n",
    "            else:\n",
    "                if actual_Y.iloc[point] == 'Alive':\n",
    "                    global fn_W\n",
    "                    fn_W+=1\n",
    "                else:\n",
    "                    global fp_W\n",
    "                    fp_W+=1\n",
    "        elif test_X.iloc[point]['Race'] == \"Black\":\n",
    "            if predictions[point] == actual_Y.iloc[point]:\n",
    "                if actual_Y.iloc[point] == 'Alive': \n",
    "                    global tp_B\n",
    "                    tp_B+=1\n",
    "                else:\n",
    "                    global tn_B\n",
    "                    tn_B+=1\n",
    "            else:\n",
    "                if actual_Y.iloc[point] == 'Alive':\n",
    "                    global fn_B\n",
    "                    fn_B+=1\n",
    "                else:\n",
    "                    global fp_B\n",
    "                    fp_B+=1\n",
    "        elif test_X.iloc[point]['Race'] == \"Other\":\n",
    "            if predictions[point] == actual_Y.iloc[point]:\n",
    "                if actual_Y.iloc[point] == 'Alive': \n",
    "                    global tp_O\n",
    "                    tp_O+=1\n",
    "                else:\n",
    "                    global tn_O\n",
    "                    tn_O+=1\n",
    "            else:\n",
    "                if actual_Y.iloc[point] == 'Alive':\n",
    "                    global fn_O\n",
    "                    fn_O+=1 \n",
    "                else:\n",
    "                    global fp_O\n",
    "                    fp_O+=1\n"
   ]
  },
  {
   "cell_type": "code",
   "execution_count": 188,
   "metadata": {},
   "outputs": [],
   "source": [
    "kNeighbours = get_k_neighbours(11)\n",
    "test_predictions = predict_for_test(kNeighbours)\n",
    "confusion_matrix_optimal(test_predictions, 11, test_Y)"
   ]
  },
  {
   "cell_type": "code",
   "execution_count": 189,
   "metadata": {},
   "outputs": [],
   "source": [
    "def compute_accuracies_optimal(tp, fp, tn, fn, k):\n",
    "    recall_1 = tp/(tp+fn)\n",
    "    recall_2 = tn/(tn+fp)\n",
    "    return ((tp+tn)/(tp+tn+fp+tn)) , (0.5*(recall_1 + recall_2)) , (2*tp / (2*tp + fp + fn))\n"
   ]
  },
  {
   "cell_type": "code",
   "execution_count": 190,
   "metadata": {},
   "outputs": [],
   "source": [
    "f1_W = compute_accuracies_optimal(tp=tp_W, tn=tn_W, fp=fp_W, fn=fn_W, k=11)\n",
    "f1_B = compute_accuracies_optimal(tp=tp_B, tn=tn_B, fp=fp_B, fn=fn_B, k=11)\n",
    "f1_O = compute_accuracies_optimal(tp=tp_O, tn=tn_O, fp=fp_O, fn=fn_O, k=11)"
   ]
  },
  {
   "cell_type": "code",
   "execution_count": 192,
   "metadata": {},
   "outputs": [
    {
     "data": {
      "text/plain": [
       "(0.8706009745533297, 0.8387096774193549, 0.8641975308641975)"
      ]
     },
     "execution_count": 192,
     "metadata": {},
     "output_type": "execute_result"
    }
   ],
   "source": [
    "f1_W[2], f1_B[2], f1_O[2]"
   ]
  },
  {
   "cell_type": "code",
   "execution_count": null,
   "metadata": {},
   "outputs": [],
   "source": []
  }
 ],
 "metadata": {
  "kernelspec": {
   "display_name": "Python 3",
   "language": "python",
   "name": "python3"
  },
  "language_info": {
   "codemirror_mode": {
    "name": "ipython",
    "version": 3
   },
   "file_extension": ".py",
   "mimetype": "text/x-python",
   "name": "python",
   "nbconvert_exporter": "python",
   "pygments_lexer": "ipython3",
   "version": "3.9.6"
  }
 },
 "nbformat": 4,
 "nbformat_minor": 2
}
